{
 "cells": [
  {
   "cell_type": "code",
   "execution_count": 2,
   "metadata": {},
   "outputs": [],
   "source": [
    "from matplotlib import pyplot as plt\n",
    "import pandas as pd\n",
    "import cartopy \n",
    "import numpy as np\n",
    "import cmcrameri as cm\n",
    "import netCDF4 as nc\n",
    "from tqdm.notebook import tqdm_notebook\n",
    "import time\n",
    "import xarray as xr\n",
    "import os\n",
    "import glob"
   ]
  },
  {
   "cell_type": "code",
   "execution_count": 5,
   "metadata": {},
   "outputs": [],
   "source": [
    "run_subset = True\n",
    "slat = 9\n",
    "elat = 23\n",
    "slon = 102\n",
    "elon = 110\n",
    "\n",
    "maskV = -999\n",
    "\n",
    "outVarName = 'tas'"
   ]
  },
  {
   "cell_type": "code",
   "execution_count": 22,
   "metadata": {},
   "outputs": [],
   "source": [
    "folderpath = \"C:/Mayank/Projects/Project_Vietnam/NewData/GCM_Download/ECEARTH_Veg/Merged\"\n",
    "out_folderpath = \"C:/Mayank/Projects/Project_Vietnam/NewData/GCM_Download/ECEARTH_Veg/Merged/Clipped/\""
   ]
  },
  {
   "cell_type": "code",
   "execution_count": 23,
   "metadata": {},
   "outputs": [],
   "source": [
    "file_read = glob.glob(os.path.join(folderpath,\"*.nc\"))"
   ]
  },
  {
   "cell_type": "code",
   "execution_count": 24,
   "metadata": {},
   "outputs": [
    {
     "data": {
      "text/plain": [
       "['C:/Mayank/Projects/Project_Vietnam/NewData/GCM_Download/ECEARTH_Veg/Merged\\\\historical_pr_ecearth_veg.nc',\n",
       " 'C:/Mayank/Projects/Project_Vietnam/NewData/GCM_Download/ECEARTH_Veg/Merged\\\\historical_tas_ecearth_veg.nc',\n",
       " 'C:/Mayank/Projects/Project_Vietnam/NewData/GCM_Download/ECEARTH_Veg/Merged\\\\ssp245_pr_ecearth_veg.nc',\n",
       " 'C:/Mayank/Projects/Project_Vietnam/NewData/GCM_Download/ECEARTH_Veg/Merged\\\\ssp245_tas_ecearth_veg.nc',\n",
       " 'C:/Mayank/Projects/Project_Vietnam/NewData/GCM_Download/ECEARTH_Veg/Merged\\\\ssp585_pr_ecearth_veg.nc',\n",
       " 'C:/Mayank/Projects/Project_Vietnam/NewData/GCM_Download/ECEARTH_Veg/Merged\\\\ssp585_tas_ecearth_veg.nc']"
      ]
     },
     "execution_count": 24,
     "metadata": {},
     "output_type": "execute_result"
    }
   ],
   "source": [
    "file_read"
   ]
  },
  {
   "cell_type": "code",
   "execution_count": 25,
   "metadata": {},
   "outputs": [],
   "source": [
    "for file_name in file_read:\n",
    "    ds_ref = xr.open_dataset(file_name)\n",
    "    tp_hst = ds_ref.sel(lat=slice(slat,elat),lon=slice(slon,elon))\n",
    "    outfile = os.path.basename(file_name).split('.')[0]\n",
    "    tp_hst.to_netcdf(os.path.join(out_folderpath,outfile+\"_clip.nc\"))"
   ]
  },
  {
   "cell_type": "code",
   "execution_count": null,
   "metadata": {},
   "outputs": [],
   "source": []
  }
 ],
 "metadata": {
  "kernelspec": {
   "display_name": "Python 3 (ipykernel)",
   "language": "python",
   "name": "python3"
  },
  "language_info": {
   "codemirror_mode": {
    "name": "ipython",
    "version": 3
   },
   "file_extension": ".py",
   "mimetype": "text/x-python",
   "name": "python",
   "nbconvert_exporter": "python",
   "pygments_lexer": "ipython3",
   "version": "3.10.9"
  }
 },
 "nbformat": 4,
 "nbformat_minor": 4
}
