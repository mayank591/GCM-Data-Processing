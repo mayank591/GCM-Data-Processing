{
 "cells": [
  {
   "cell_type": "code",
   "execution_count": 1,
   "metadata": {},
   "outputs": [],
   "source": [
    "import geopandas\n",
    "import xarray\n",
    "import rioxarray\n",
    "import rasterio\n",
    "from shapely.geometry import mapping\n",
    "import glob\n",
    "import os"
   ]
  },
  {
   "cell_type": "code",
   "execution_count": 63,
   "metadata": {},
   "outputs": [],
   "source": [
    "shapefile = 'C:/Mayank/Projects/Project_Viatris/Data/Nashik_Bengaluru/Study_Area_1/Study_Area_1/Study_Area.shp'\n",
    "sf = geopandas.read_file(shapefile)"
   ]
  },
  {
   "cell_type": "code",
   "execution_count": 68,
   "metadata": {},
   "outputs": [],
   "source": [
    "# inp_dir = 'C:/Mayank/Projects/Project_Viatris/Data/BiasCorrection_Rainfall/Corrected/RCP26/'\n",
    "inp_dir = 'C:/Mayank/Projects/Project_Viatris/Data/FromJuna/Tas/Tas/Regridded/Historical'"
   ]
  },
  {
   "cell_type": "code",
   "execution_count": 67,
   "metadata": {},
   "outputs": [],
   "source": [
    "out_dir = 'C:/Mayank/Projects/Project_Viatris/Data/Output/tojuna/Banglore/Tas/'"
   ]
  },
  {
   "cell_type": "code",
   "execution_count": 69,
   "metadata": {},
   "outputs": [
    {
     "name": "stdout",
     "output_type": "stream",
     "text": [
      "C:/Mayank/Projects/Project_Viatris/Data/FromJuna/Tas/Tas/Regridded/Historical\\CanESM_1990_2005_try2.nc\n",
      "C:/Mayank/Projects/Project_Viatris/Data/FromJuna/Tas/Tas/Regridded/Historical\\CCSM4_1990_2005_regridded.nc\n",
      "changing dims\n",
      "<xarray.Dataset>\n",
      "Dimensions:      (time: 5840, lon: 31, lat: 31)\n",
      "Coordinates:\n",
      "  * time         (time) object 1990-01-01 12:00:00 ... 2005-12-31 12:00:00\n",
      "  * lon          (lon) float64 67.5 68.5 69.5 70.5 71.5 ... 94.5 95.5 96.5 97.5\n",
      "  * lat          (lat) float64 7.5 8.5 9.5 10.5 11.5 ... 34.5 35.5 36.5 37.5\n",
      "    height       float64 ...\n",
      "    spatial_ref  int32 0\n",
      "Data variables:\n",
      "    tas          (time, lat, lon) float32 ...\n",
      "Attributes: (12/37)\n",
      "    CDI:                          Climate Data Interface version 2.0.4 (https...\n",
      "    Conventions:                  CF-1.4\n",
      "    source:                       CCSM4\n",
      "    institution:                  NCAR (National Center for Atmospheric Resea...\n",
      "    history:                      Fri Nov 17 13:06:48 2023: cdo remapcon,tmea...\n",
      "    institute_id:                 NCAR\n",
      "    ...                           ...\n",
      "    title:                        CCSM4 model output prepared for CMIP5 histo...\n",
      "    parent_experiment:            pre-industrial control\n",
      "    modeling_realm:               atmos\n",
      "    realization:                  1\n",
      "    cmor_version:                 2.7.1\n",
      "    CDO:                          Climate Data Operators version 2.0.4 (https...\n",
      "C:/Mayank/Projects/Project_Viatris/Data/FromJuna/Tas/Tas/Regridded/Historical\\CESM1_CAM_1990_2005_regridded.nc\n",
      "changing dims\n",
      "<xarray.Dataset>\n",
      "Dimensions:      (time: 5840, lon: 31, lat: 31)\n",
      "Coordinates:\n",
      "  * time         (time) object 1990-01-01 12:00:00 ... 2005-12-31 12:00:00\n",
      "  * lon          (lon) float64 67.5 68.5 69.5 70.5 71.5 ... 94.5 95.5 96.5 97.5\n",
      "  * lat          (lat) float64 7.5 8.5 9.5 10.5 11.5 ... 34.5 35.5 36.5 37.5\n",
      "    height       float64 ...\n",
      "    spatial_ref  int32 0\n",
      "Data variables:\n",
      "    tas          (time, lat, lon) float32 ...\n",
      "Attributes: (12/38)\n",
      "    CDI:                          Climate Data Interface version 2.0.4 (https...\n",
      "    Conventions:                  CF-1.4\n",
      "    source:                       CESM1-CAM5\n",
      "    institution:                  NSF/DOE NCAR (National Center for Atmospher...\n",
      "    history:                      Fri Nov 17 13:19:03 2023: cdo remapcon,tmea...\n",
      "    institute_id:                 NSF-DOE-NCAR\n",
      "    ...                           ...\n",
      "    title:                        CESM1-CAM5 model output prepared for CMIP5 ...\n",
      "    parent_experiment:            pre-industrial control\n",
      "    modeling_realm:               atmos\n",
      "    realization:                  1\n",
      "    cmor_version:                 2.8.1\n",
      "    CDO:                          Climate Data Operators version 2.0.4 (https...\n",
      "C:/Mayank/Projects/Project_Viatris/Data/FromJuna/Tas/Tas/Regridded/Historical\\EC_EARTH_1990_2005_regridded.nc\n",
      "C:/Mayank/Projects/Project_Viatris/Data/FromJuna/Tas/Tas/Regridded/Historical\\GFDL_1991_2005_regridded.nc\n",
      "C:/Mayank/Projects/Project_Viatris/Data/FromJuna/Tas/Tas/Regridded/Historical\\MIROC_2000_2012_regridded.nc\n"
     ]
    }
   ],
   "source": [
    "file_nc = glob.glob(os.path.join(inp_dir,'*.nc'))\n",
    "# print(file_nc)\n",
    "\n",
    "for file in file_nc:\n",
    "#     file_n = xarray.open_dataset(file)\n",
    "    basename = os.path.basename(file)\n",
    "    print(file)\n",
    "    # Then apply the mask\n",
    "#     masked_netcdf_file = nc_file.where(shape_mask == True, drop=True)\n",
    "    # store again as netcdf or do what every you want with the masked array\n",
    "    nc_file = xarray.open_dataset(file)\n",
    "    nc_file.rio.write_crs('epsg:4326', inplace = True)\n",
    "#     print(nc_file)\n",
    "    dicts = nc_file.dims\n",
    "#     newdict = {}\n",
    "#     blklist= set(('bnds'))\n",
    "#     for k in dicts:\n",
    "#         if k not in blklist:\n",
    "#             newdict[k]=dicts[k]\n",
    "        \n",
    "    if 'bnds' in dict(dicts):\n",
    "        print('changing dims')\n",
    "#         nc_file.rio.set_spatial_dims('lon','lat',inplace=True)\n",
    "#         print(nc_file)\n",
    "        nc_file2=nc_file.drop_vars('time_bnds', errors='raise')\n",
    "        print(nc_file2)\n",
    "        clipped_nc = nc_file2.rio.clip(sf.geometry.apply(mapping), sf.crs, all_touched = True)\n",
    "        clipped_nc.rio.write_crs('epsg:4326', inplace=True)\n",
    "        clipped_nc.to_netcdf(os.path.join(out_dir, basename))\n",
    "#           nc_file.transpose('time','bnds','lon','lat')[['time','lon','lat','bnds']]\n",
    "#     print(\"This is new dict\", newdict)\n",
    "#     nc_file.rename_dims(newdict)\n",
    "# masked_netcdf_file = nc_file.where(shape_mask == True, drop = True)\n",
    "#     print(\"new dimensions\", nc_file.dims)\n",
    "    else:\n",
    "        clipped_nc = nc_file.rio.clip(sf.geometry.apply(mapping), sf.crs, all_touched = True)\n",
    "        clipped_nc.rio.write_crs('epsg:4326', inplace=True)\n",
    "        clipped_nc.to_netcdf(os.path.join(out_dir, basename))"
   ]
  },
  {
   "cell_type": "code",
   "execution_count": null,
   "metadata": {},
   "outputs": [],
   "source": []
  }
 ],
 "metadata": {
  "kernelspec": {
   "display_name": "Python 3",
   "language": "python",
   "name": "python3"
  },
  "language_info": {
   "codemirror_mode": {
    "name": "ipython",
    "version": 3
   },
   "file_extension": ".py",
   "mimetype": "text/x-python",
   "name": "python",
   "nbconvert_exporter": "python",
   "pygments_lexer": "ipython3",
   "version": "3.8.3"
  }
 },
 "nbformat": 4,
 "nbformat_minor": 4
}
